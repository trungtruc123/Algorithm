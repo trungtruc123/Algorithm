{
 "cells": [
  {
   "cell_type": "markdown",
   "metadata": {},
   "source": [
    "# Có 2 cách:\n",
    "Cách 1: Sắp xếp rồi lấy ra phần tử lớn thứ 2\n",
    "Cách 2: Tìm phần tử lớn nhất và lớn thứ 2 ( độ phức tạp nhỏ hơn): dùng 2 biến firstMax, secondMax lưu 2 giá trị lớn nhất và lớn nhì"
   ]
  },
  {
   "cell_type": "code",
   "execution_count": 3,
   "metadata": {},
   "outputs": [
    {
     "name": "stdout",
     "output_type": "stream",
     "text": [
      "[1, 1, 2, 3, 4, 4, 6, 45, 78]\n",
      "Phan tu lon thu 2: 45\n"
     ]
    }
   ],
   "source": [
    "# Cách 1 :\n",
    "import numpy as np\n",
    "arr =[1,3,6,4,1,2,4,78,45]\n",
    "arr.sort()\n",
    "print(arr)\n",
    "print('Phan tu lon thu 2:', arr[-2])"
   ]
  },
  {
   "cell_type": "code",
   "execution_count": 10,
   "metadata": {},
   "outputs": [
    {
     "name": "stdout",
     "output_type": "stream",
     "text": [
      "sencondMax: 6\n",
      "firstMax: 78\n"
     ]
    }
   ],
   "source": [
    "# Cachs 2:\n",
    "arr =[1,3,6,4,1,2,4,78,45]\n",
    "# Dùng 2 biến để lưu phần tử lớn nhất và lớn thứ 2\n",
    "if(arr[0]>=arr[1]):\n",
    "    firstMax = arr[0]\n",
    "    secondMax = arr[1]\n",
    "else:\n",
    "    firstMax = arr[1]\n",
    "    secondMax = arr[0]\n",
    "for i in range(2, len(arr)-1):\n",
    "    if(arr[i] >=firstMax):\n",
    "        secondMax =firstMax\n",
    "        firstMax = arr[i]\n",
    "    elif ( arr[i]> secondMax):\n",
    "        secondMax = arr[i]\n",
    "print('sencondMax:', secondMax)\n",
    "print('firstMax:', firstMax)"
   ]
  }
 ],
 "metadata": {
  "kernelspec": {
   "display_name": "Python 3",
   "language": "python",
   "name": "python3"
  },
  "language_info": {
   "codemirror_mode": {
    "name": "ipython",
    "version": 3
   },
   "file_extension": ".py",
   "mimetype": "text/x-python",
   "name": "python",
   "nbconvert_exporter": "python",
   "pygments_lexer": "ipython3",
   "version": "3.7.1"
  }
 },
 "nbformat": 4,
 "nbformat_minor": 2
}
