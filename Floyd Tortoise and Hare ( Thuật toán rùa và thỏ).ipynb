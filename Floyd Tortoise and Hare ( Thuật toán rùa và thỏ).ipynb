{
 "cells": [
  {
   "cell_type": "code",
   "execution_count": null,
   "metadata": {},
   "outputs": [],
   "source": [
    "# Thuật toán này áp dụng cho mảng có các phần tử nhỏ hơn kích thước của nó, O(n*2)\n",
    "# Bài toán tìm phần tử giống nhau trong mảng bất kì gồm các phần tử {1,2,3,4,5,6}\n",
    "nums =[3,1,3,4,2]\n",
    "def findDuplicate(nums):\n",
    "    tortoise = nums[0]\n",
    "    hare     = nums[0]\n",
    "    while True:\n",
    "        tortoise = nums[tortoise]\n",
    "        hare     = nums[nums[hare]]\n",
    "        if tortoise == hare:\n",
    "            break\n",
    "    ptr1 = nums[0]\n",
    "    ptr2 = nums[tortoise]\n",
    "    while ptr1 !=ptr2:\n",
    "        ptr1 = nums[ptr1]\n",
    "        ptr2 = nums[ptr2]\n",
    "    return ptr1\n",
    "print(findDuplicate(nums))"
   ]
  }
 ],
 "metadata": {
  "kernelspec": {
   "display_name": "Python 3",
   "language": "python",
   "name": "python3"
  },
  "language_info": {
   "codemirror_mode": {
    "name": "ipython",
    "version": 3
   },
   "file_extension": ".py",
   "mimetype": "text/x-python",
   "name": "python",
   "nbconvert_exporter": "python",
   "pygments_lexer": "ipython3",
   "version": "3.7.1"
  }
 },
 "nbformat": 4,
 "nbformat_minor": 2
}
